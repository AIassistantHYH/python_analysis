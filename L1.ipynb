{
 "cells": [
  {
   "cell_type": "code",
   "execution_count": 38,
   "metadata": {},
   "outputs": [
    {
     "data": {
      "text/plain": [
       "13"
      ]
     },
     "execution_count": 38,
     "metadata": {},
     "output_type": "execute_result"
    }
   ],
   "source": [
    "#list僅能用引數值呼叫\n",
    "a=range(5)\n",
    "b=range(1,5)\n",
    "#空格是特殊符號，只能用_\n",
    "numbers=[1,2,3,4,5] #numbers是list實體(物件)，有class\n",
    "mixed=[1,0.83,\"Hello\",True] #有儲存元素的屬性\n",
    "list_from_range=range(10,20) #存放10~19的數字，沒有20\n",
    "list_from_range[3] #取出地4個元素"
   ]
  },
  {
   "cell_type": "code",
   "execution_count": 39,
   "metadata": {},
   "outputs": [
    {
     "ename": "ValueError",
     "evalue": "list.remove(x): x not in list",
     "output_type": "error",
     "traceback": [
      "\u001b[0;31m---------------------------------------------------------------------------\u001b[0m",
      "\u001b[0;31mValueError\u001b[0m                                Traceback (most recent call last)",
      "Cell \u001b[0;32mIn[39], line 3\u001b[0m\n\u001b[1;32m      1\u001b[0m \u001b[38;5;66;03m#numbners的實體方法\u001b[39;00m\n\u001b[1;32m      2\u001b[0m numbers\u001b[38;5;241m.\u001b[39mappend(\u001b[38;5;241m11\u001b[39m)\n\u001b[0;32m----> 3\u001b[0m \u001b[43mnumbers\u001b[49m\u001b[38;5;241;43m.\u001b[39;49m\u001b[43mremove\u001b[49m\u001b[43m(\u001b[49m\u001b[38;5;241;43m10\u001b[39;49m\u001b[43m)\u001b[49m \u001b[38;5;66;03m#移除特定值\u001b[39;00m\n\u001b[1;32m      4\u001b[0m numbers\n",
      "\u001b[0;31mValueError\u001b[0m: list.remove(x): x not in list"
     ]
    }
   ],
   "source": [
    "#numbners的實體方法\n",
    "numbers.append(11)\n",
    "numbers.remove(10) #移除特定值\n",
    "numbers"
   ]
  },
  {
   "cell_type": "code",
   "execution_count": 31,
   "metadata": {},
   "outputs": [
    {
     "name": "stdout",
     "output_type": "stream",
     "text": [
      "{'name': 'Amy', 'age': 20, 'math': 90, 'chinese': 70} 25\n"
     ]
    }
   ],
   "source": [
    "#dict的使用\n",
    "dict1={\"name\":\"Amy\",\"age\":20,\"math\":90}\n",
    "dict2={\"name\":\"Bob\",\"age\":25,\"chinese\":88}\n",
    "dict1[\"chinese\"]=70  #新增元素\n",
    "value = dict2['age'] #取出元素\n",
    "print(dict1,value)"
   ]
  },
  {
   "cell_type": "code",
   "execution_count": 37,
   "metadata": {},
   "outputs": [
    {
     "name": "stdout",
     "output_type": "stream",
     "text": [
      "appple\n",
      "banana\n",
      "cherry\n",
      "0-appple\n",
      "------------\n",
      "1-banana\n",
      "------------\n",
      "2-cherry\n",
      "------------\n"
     ]
    }
   ],
   "source": [
    "#迴圈取資料\n",
    "fruits=[\"appple\",\"banana\",\"cherry\"]\n",
    "#tuple的拆解法\n",
    "for fruit in fruits:\n",
    "    print(fruit)\n",
    "for index, fruist in enumerate(fruits):\n",
    "    print(index, fruist, sep=\"-\")\n",
    "    print(\"------------\")"
   ]
  },
  {
   "cell_type": "code",
   "execution_count": 42,
   "metadata": {},
   "outputs": [
    {
     "name": "stdout",
     "output_type": "stream",
     "text": [
      "2\n",
      "4\n",
      "6\n",
      "8\n"
     ]
    }
   ],
   "source": [
    "#用ctrl+i可叫出copilot\n",
    "for i in range(2, 10, 2):\n",
    "    print(i)"
   ]
  }
 ],
 "metadata": {
  "kernelspec": {
   "display_name": "base",
   "language": "python",
   "name": "python3"
  },
  "language_info": {
   "codemirror_mode": {
    "name": "ipython",
    "version": 3
   },
   "file_extension": ".py",
   "mimetype": "text/x-python",
   "name": "python",
   "nbconvert_exporter": "python",
   "pygments_lexer": "ipython3",
   "version": "3.12.2"
  }
 },
 "nbformat": 4,
 "nbformat_minor": 2
}
