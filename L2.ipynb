{
 "cells": [
  {
   "cell_type": "code",
   "execution_count": 2,
   "metadata": {},
   "outputs": [
    {
     "name": "stdout",
     "output_type": "stream",
     "text": [
      "上傳步驟\n",
      " 1.變更>>暫時的變更\n",
      " 2.變更>>暫時的變更\n",
      " 3.輸入名字後按提交\n",
      " 4.同步變更=上傳\n",
      "\n"
     ]
    }
   ],
   "source": [
    "#練習上傳至GitHub\n",
    "print(\"上傳步驟\\n 1.變更>>暫時的變更\\n 2.變更>>暫時的變更\\n 3.輸入名字後按提交\\n 4.同步變更=上傳\\n\")"
   ]
  },
  {
   "cell_type": "code",
   "execution_count": null,
   "metadata": {},
   "outputs": [],
   "source": [
    "#若是在陌生電腦(公司電腦)：開啟vscode存放庫>>搜尋GitHub>建立本地端的資料夾>>即可下載至要工作的電腦中\n",
    "#若是在GitHub建立，則vscode左下有同步按鈕zzz\n"
   ]
  }
 ],
 "metadata": {
  "kernelspec": {
   "display_name": "base",
   "language": "python",
   "name": "python3"
  },
  "language_info": {
   "codemirror_mode": {
    "name": "ipython",
    "version": 3
   },
   "file_extension": ".py",
   "mimetype": "text/x-python",
   "name": "python",
   "nbconvert_exporter": "python",
   "pygments_lexer": "ipython3",
   "version": "3.12.3"
  }
 },
 "nbformat": 4,
 "nbformat_minor": 2
}
