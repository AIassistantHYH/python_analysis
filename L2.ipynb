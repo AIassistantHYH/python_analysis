{
 "cells": [
  {
   "cell_type": "code",
   "execution_count": 2,
   "metadata": {},
   "outputs": [
    {
     "name": "stdout",
     "output_type": "stream",
     "text": [
      "上傳步驟\n",
      " 1.變更>>暫時的變更\n",
      " 2.變更>>暫時的變更\n",
      " 3.輸入名字後按提交\n",
      " 4.同步變更=上傳\n",
      "\n"
     ]
    }
   ],
   "source": [
    "#練習上傳至GitHub\n",
    "print(\"上傳步驟\\n 1.變更>>暫時的變更\\n 2.變更>>暫時的變更\\n 3.輸入名字後按提交\\n 4.同步變更=上傳\\n\")"
   ]
  },
  {
   "cell_type": "code",
   "execution_count": null,
   "metadata": {},
   "outputs": [],
   "source": [
    "# python內件資料結構包含list tuple dict set，其中差異...\n"
   ]
  }
 ],
 "metadata": {
  "kernelspec": {
   "display_name": "base",
   "language": "python",
   "name": "python3"
  },
  "language_info": {
   "codemirror_mode": {
    "name": "ipython",
    "version": 3
   },
   "file_extension": ".py",
   "mimetype": "text/x-python",
   "name": "python",
   "nbconvert_exporter": "python",
   "pygments_lexer": "ipython3",
   "version": "3.12.3"
  }
 },
 "nbformat": 4,
 "nbformat_minor": 2
}
